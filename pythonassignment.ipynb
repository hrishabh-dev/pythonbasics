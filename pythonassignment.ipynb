{
  "nbformat": 4,
  "nbformat_minor": 0,
  "metadata": {
    "colab": {
      "provenance": [],
      "authorship_tag": "ABX9TyOk99Kknzc0R3uW880p9OYg",
      "include_colab_link": true
    },
    "kernelspec": {
      "name": "python3",
      "display_name": "Python 3"
    },
    "language_info": {
      "name": "python"
    }
  },
  "cells": [
    {
      "cell_type": "markdown",
      "metadata": {
        "id": "view-in-github",
        "colab_type": "text"
      },
      "source": [
        "<a href=\"https://colab.research.google.com/github/hrishabh-dev/pythonbasics/blob/main/pythonassignment.ipynb\" target=\"_parent\"><img src=\"https://colab.research.google.com/assets/colab-badge.svg\" alt=\"Open In Colab\"/></a>"
      ]
    },
    {
      "cell_type": "markdown",
      "source": [
        "### Q1. Explain with an example each when to use a for loop and a while loop."
      ],
      "metadata": {
        "id": "a-Xyca-6bzhB"
      }
    },
    {
      "cell_type": "code",
      "execution_count": 1,
      "metadata": {
        "colab": {
          "base_uri": "https://localhost:8080/"
        },
        "id": "gQFFJ3bxbrUb",
        "outputId": "5a75f038-6ccf-4caf-b552-1d45c09c04bc"
      },
      "outputs": [
        {
          "output_type": "stream",
          "name": "stdout",
          "text": [
            "Hello, Alice!\n",
            "Hello, Bob!\n",
            "Hello, Charlie!\n"
          ]
        }
      ],
      "source": [
        "'''\n",
        "for loop when you know in advance how many times you need to execute a block of code.\n",
        "This is because for loops are designed to iterate over a sequence of items (like a list, tuple, string, or the result of a range function)\n",
        "\n",
        "\n",
        "'''\n",
        "students = [\"Alice\", \"Bob\", \"Charlie\"]\n",
        "\n",
        "for name in students:\n",
        "    print(f\"Hello, {name}!\")"
      ]
    },
    {
      "cell_type": "code",
      "source": [
        "'''\n",
        "while loop when you need to repeat a block of code as long as a certain condition remains true.\n",
        " You don't necessarily know beforehand how many times the loop will execute; it depends on when the condition becomes false.\n",
        "\n",
        "'''\n",
        "import random\n",
        "\n",
        "roll = 0\n",
        "roll_count = 0\n",
        "\n",
        "while roll != 6:\n",
        "    roll = random.randint(1, 6)\n",
        "    roll_count += 1\n",
        "    print(f\"You rolled a {roll}\")\n",
        "\n",
        "print(f\"It took {roll_count} rolls to get a 6!\")"
      ],
      "metadata": {
        "colab": {
          "base_uri": "https://localhost:8080/"
        },
        "id": "zGYmbNSJb_5r",
        "outputId": "c341eca0-a0b5-4caf-f129-496d049fa11e"
      },
      "execution_count": 2,
      "outputs": [
        {
          "output_type": "stream",
          "name": "stdout",
          "text": [
            "You rolled a 1\n",
            "You rolled a 3\n",
            "You rolled a 1\n",
            "You rolled a 1\n",
            "You rolled a 3\n",
            "You rolled a 4\n",
            "You rolled a 6\n",
            "It took 7 rolls to get a 6!\n"
          ]
        }
      ]
    },
    {
      "cell_type": "markdown",
      "source": [
        "### Q2. Write a python program to print the sum and product of the first 10 natural numbers using for and while loop."
      ],
      "metadata": {
        "id": "ZsMXA0-McOcE"
      }
    },
    {
      "cell_type": "code",
      "source": [
        "# Using for loop\n",
        "\n",
        "print(\"Sum and product of the first 10 natural numbers (using for loop):\")\n",
        "\n",
        "sum_for = 0\n",
        "product_for = 1\n",
        "\n",
        "for i in range(1, 11):  # Numbers from 1 to 10 (inclusive)\n",
        "    sum_for += i\n",
        "    product_for *= i\n",
        "\n",
        "print(f\"Sum: {sum_for}\")\n",
        "print(f\"Product: {product_for}\")\n",
        "\n",
        "print(\"-\" * 30)\n",
        "\n",
        "# Using while loop\n",
        "\n",
        "print(\"Sum and product of the first 10 natural numbers (using while loop):\")\n",
        "\n",
        "sum_while = 0\n",
        "product_while = 1\n",
        "count = 1\n",
        "\n",
        "while count <= 10:\n",
        "    sum_while += count\n",
        "    product_while *= count\n",
        "    count += 1\n",
        "\n",
        "print(f\"Sum: {sum_while}\")\n",
        "print(f\"Product: {product_while}\")"
      ],
      "metadata": {
        "colab": {
          "base_uri": "https://localhost:8080/"
        },
        "id": "uHOExVw5cLuz",
        "outputId": "66f247cd-1624-4644-ca9e-b29ceef3d382"
      },
      "execution_count": 3,
      "outputs": [
        {
          "output_type": "stream",
          "name": "stdout",
          "text": [
            "Sum and product of the first 10 natural numbers (using for loop):\n",
            "Sum: 55\n",
            "Product: 3628800\n",
            "------------------------------\n",
            "Sum and product of the first 10 natural numbers (using while loop):\n",
            "Sum: 55\n",
            "Product: 3628800\n"
          ]
        }
      ]
    },
    {
      "cell_type": "markdown",
      "source": [
        "Q3. Create a python program to compute the electricity bill for a household.\n",
        "The per-unit charges in rupees are as follows: For the first 100 units, the user will be charged Rs. 4.5 per\n",
        "unit, for the next 100 units, the user will be charged Rs. 6 per unit, and for the next 100 units, the user will\n",
        "be charged Rs. 10 per unit, After 300 units and above the user will be charged Rs. 20 per unit."
      ],
      "metadata": {
        "id": "1SOI3BQ0cdX-"
      }
    },
    {
      "cell_type": "markdown",
      "source": [
        "You are required to take the units of electricity consumed in a month from the user as input.\n",
        "Your program must pass this test case: when the unit of electricity consumed by the user in a month is\n",
        "310, the total electricity bill should be 2250."
      ],
      "metadata": {
        "id": "vE8SU1rAczXf"
      }
    },
    {
      "cell_type": "code",
      "source": [
        "try:\n",
        "    units = float(input(\"Enter the number of units consumed in a month: \"))\n",
        "\n",
        "    if units < 0:\n",
        "        print(\"Number of units consumed cannot be negative. Please enter a non-negative value.\")\n",
        "    else:\n",
        "        bill = 0\n",
        "        if units <= 100:\n",
        "            bill = units * 4.5\n",
        "        elif units <= 200:\n",
        "            bill = 100 * 4.5 + (units - 100) * 6\n",
        "        elif units <= 300:\n",
        "            bill = 100 * 4.5 + 100 * 6 + (units - 200) * 10\n",
        "        else:\n",
        "            bill = 100 * 4.5 + 100 * 6 + 100 * 10 + (units - 300) * 20\n",
        "\n",
        "        print(f\"The electricity bill for {units} units is Rs. {bill:.2f}\")\n",
        "\n",
        "except ValueError:\n",
        "    print(\"Invalid input. Please enter a numeric value for the number of units.\")\n"
      ],
      "metadata": {
        "colab": {
          "base_uri": "https://localhost:8080/"
        },
        "id": "i44T8_KVcU6-",
        "outputId": "c4d9134d-d9ef-4f9b-cb3c-6d7929db6d6d"
      },
      "execution_count": 5,
      "outputs": [
        {
          "output_type": "stream",
          "name": "stdout",
          "text": [
            "Enter the number of units consumed in a month: 310\n",
            "The electricity bill for 310.0 units is Rs. 2250.00\n"
          ]
        }
      ]
    },
    {
      "cell_type": "markdown",
      "source": [
        "Q4. Create a list of numbers from 1 to 100. Use for loop and while loop to calculate the cube of each\n",
        "number and if the cube of that number is divisible by 4 or 5 then append that number in a list and print\n",
        "that list."
      ],
      "metadata": {
        "id": "VE1LNF4tc82h"
      }
    },
    {
      "cell_type": "code",
      "source": [
        "# Using for loop\n",
        "numbers_divisible_by_4_or_5_for = []\n",
        "for i in range(1, 101):\n",
        "    cube = i**3\n",
        "    if cube % 4 == 0 or cube % 5 == 0:\n",
        "        numbers_divisible_by_4_or_5_for.append(i)\n",
        "print(\"Numbers (from 1 to 100) whose cubes are divisible by 4 or 5 (using for loop):\", numbers_divisible_by_4_or_5_for)\n",
        "\n",
        "# Using while loop\n",
        "numbers_divisible_by_4_or_5_while = []\n",
        "count = 1\n",
        "while count <= 100:\n",
        "    cube = count**3\n",
        "    if cube % 4 == 0 or cube % 5 == 0:\n",
        "        numbers_divisible_by_4_or_5_while.append(count)\n",
        "    count += 1\n",
        "print(\"Numbers (from 1 to 100) whose cubes are divisible by 4 or 5 (using while loop):\", numbers_divisible_by_4_or_5_while)\n"
      ],
      "metadata": {
        "colab": {
          "base_uri": "https://localhost:8080/"
        },
        "id": "v6NEyqGgcuib",
        "outputId": "30939cf9-29e1-4896-c227-bd708adc5ef6"
      },
      "execution_count": 6,
      "outputs": [
        {
          "output_type": "stream",
          "name": "stdout",
          "text": [
            "Numbers (from 1 to 100) whose cubes are divisible by 4 or 5 (using for loop): [2, 4, 5, 6, 8, 10, 12, 14, 15, 16, 18, 20, 22, 24, 25, 26, 28, 30, 32, 34, 35, 36, 38, 40, 42, 44, 45, 46, 48, 50, 52, 54, 55, 56, 58, 60, 62, 64, 65, 66, 68, 70, 72, 74, 75, 76, 78, 80, 82, 84, 85, 86, 88, 90, 92, 94, 95, 96, 98, 100]\n",
            "Numbers (from 1 to 100) whose cubes are divisible by 4 or 5 (using while loop): [2, 4, 5, 6, 8, 10, 12, 14, 15, 16, 18, 20, 22, 24, 25, 26, 28, 30, 32, 34, 35, 36, 38, 40, 42, 44, 45, 46, 48, 50, 52, 54, 55, 56, 58, 60, 62, 64, 65, 66, 68, 70, 72, 74, 75, 76, 78, 80, 82, 84, 85, 86, 88, 90, 92, 94, 95, 96, 98, 100]\n"
          ]
        }
      ]
    },
    {
      "cell_type": "markdown",
      "source": [
        "Q5. Write a program to filter count vowels in the below-given string.\n",
        "string = \"I want to become a data scientist\""
      ],
      "metadata": {
        "id": "uXpjfzSrdK5G"
      }
    },
    {
      "cell_type": "code",
      "source": [
        "string = \"I want to become a data scientist\"\n",
        "vowels = \"aeiouAEIOU\"\n",
        "vowel_count = 0\n",
        "\n",
        "for char in string:\n",
        "    if char in vowels:\n",
        "        vowel_count += 1\n",
        "\n",
        "print(f\"The number of vowels in the string is: {vowel_count}\")\n"
      ],
      "metadata": {
        "colab": {
          "base_uri": "https://localhost:8080/"
        },
        "id": "Mli7cYExdCf5",
        "outputId": "3f400cdd-937d-48d5-bf3e-56ae0e41bd32"
      },
      "execution_count": 7,
      "outputs": [
        {
          "output_type": "stream",
          "name": "stdout",
          "text": [
            "The number of vowels in the string is: 12\n"
          ]
        }
      ]
    },
    {
      "cell_type": "code",
      "source": [],
      "metadata": {
        "id": "8QKKYxR4dPFF"
      },
      "execution_count": null,
      "outputs": []
    }
  ]
}